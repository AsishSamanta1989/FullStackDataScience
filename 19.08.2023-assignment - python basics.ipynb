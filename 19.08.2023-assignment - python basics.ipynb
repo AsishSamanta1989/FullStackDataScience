{
 "cells": [
  {
   "cell_type": "code",
   "execution_count": 17,
   "id": "5edbf76b-2abe-4192-8053-6c1ba33e233e",
   "metadata": {},
   "outputs": [],
   "source": [
    "#Assignment 19.08.2023\n",
    "\n",
    "#Python Basic : Q1 : swapping two number with out third variable\n",
    "\n",
    "x = 10\n",
    "y = 20\n",
    "x = x + y\n",
    "y = x - y\n",
    "x  = x - y"
   ]
  },
  {
   "cell_type": "code",
   "execution_count": 16,
   "id": "6b16bf5c-1160-4b84-ac9a-7daf5fb40cd9",
   "metadata": {},
   "outputs": [
    {
     "name": "stdout",
     "output_type": "stream",
     "text": [
      "Enter the value of Length : \n"
     ]
    },
    {
     "name": "stdin",
     "output_type": "stream",
     "text": [
      " 5\n"
     ]
    },
    {
     "name": "stdout",
     "output_type": "stream",
     "text": [
      "Enter the value of Width : \n"
     ]
    },
    {
     "name": "stdin",
     "output_type": "stream",
     "text": [
      " 3\n"
     ]
    },
    {
     "name": "stdout",
     "output_type": "stream",
     "text": [
      "area of the rectangle is : 15\n"
     ]
    }
   ],
   "source": [
    "#Q2. Area of rectangle\n",
    "\n",
    "print ( 'Enter the value of Length : ')\n",
    "x = int(input())     \n",
    "print ( 'Enter the value of Width : ')\n",
    "y = int(input())\n",
    "\n",
    "area = x * y\n",
    "       \n",
    "print('area of the rectangle is : ' +str(area))\n"
   ]
  },
  {
   "cell_type": "code",
   "execution_count": 18,
   "id": "2ae88bc7-4afb-499d-9d4e-96f55e543432",
   "metadata": {},
   "outputs": [
    {
     "name": "stdout",
     "output_type": "stream",
     "text": [
      "Enter temperature in celcius :\n"
     ]
    },
    {
     "name": "stdin",
     "output_type": "stream",
     "text": [
      " 100\n"
     ]
    },
    {
     "name": "stdout",
     "output_type": "stream",
     "text": [
      "Tempperature in ferenhite is :212.0\n"
     ]
    }
   ],
   "source": [
    "#Q3. Celcius to ferenhite\n",
    "\n",
    "print (\"Enter temperature in celcius :\")\n",
    "tempCelcius = int(input())\n",
    "tempFerenhite = 9*tempCelcius/5 + 32\n",
    "print (\"Tempperature in ferenhite is :\" +str(tempFerenhite))"
   ]
  },
  {
   "cell_type": "code",
   "execution_count": 21,
   "id": "d9629165-2f17-4180-8fc7-b2cf34c1890b",
   "metadata": {},
   "outputs": [
    {
     "name": "stdout",
     "output_type": "stream",
     "text": [
      "Enter a string of your choice:\n"
     ]
    },
    {
     "name": "stdin",
     "output_type": "stream",
     "text": [
      " Asish\n"
     ]
    },
    {
     "name": "stdout",
     "output_type": "stream",
     "text": [
      "length of the entered string is:5\n"
     ]
    }
   ],
   "source": [
    "#String Based Questions\n",
    "#Q1 : Printing length of a string\n",
    "\n",
    "print('Enter a string of your choice:')\n",
    "str1 = input()\n",
    "print ('length of the entered string is:' + str(len(str1)))"
   ]
  },
  {
   "cell_type": "code",
   "execution_count": 2,
   "id": "7560a32a-17dd-4b28-88ea-0ae14a26d1b6",
   "metadata": {},
   "outputs": [
    {
     "name": "stdout",
     "output_type": "stream",
     "text": [
      "Enter a string of your choice:\n"
     ]
    },
    {
     "name": "stdin",
     "output_type": "stream",
     "text": [
      " Asish\n"
     ]
    },
    {
     "name": "stdout",
     "output_type": "stream",
     "text": [
      "no of  vowels is : 2\n"
     ]
    }
   ],
   "source": [
    "#Q2. number of vowels in a string\n",
    "print('Enter a string of your choice:')\n",
    "str1 = input()\n",
    "\n",
    "numberOfVowels = str1.count('a') + str1.count('e') + str1.count('i') + str1.count('o') + str1.count('u') + str1.count('A') + str1.count('E') + str1.count('I') + str1.count('O') + str1.count('U')\n",
    "\n",
    "print ('no of  vowels is : ' + str(numberOfVowels))\n"
   ]
  },
  {
   "cell_type": "code",
   "execution_count": 5,
   "id": "8d252901-8640-4b36-b056-ba4bc71c8058",
   "metadata": {},
   "outputs": [
    {
     "name": "stdout",
     "output_type": "stream",
     "text": [
      "Enter a string of your choice:\n"
     ]
    },
    {
     "name": "stdin",
     "output_type": "stream",
     "text": [
      " Asish\n"
     ]
    },
    {
     "name": "stdout",
     "output_type": "stream",
     "text": [
      "Reverse string is : hsisA\n"
     ]
    }
   ],
   "source": [
    "#Q3. Reverse the string\n",
    "print('Enter a string of your choice:')\n",
    "str1 = input()\n",
    "revStr1 = str1[::-1]\n",
    "print('Reverse string is : ' + revStr1)"
   ]
  },
  {
   "cell_type": "code",
   "execution_count": 10,
   "id": "a1aa1d88-0b48-45b1-a5e0-690dba82cc42",
   "metadata": {},
   "outputs": [
    {
     "name": "stdout",
     "output_type": "stream",
     "text": [
      "Enter a string of your choice:\n"
     ]
    },
    {
     "name": "stdin",
     "output_type": "stream",
     "text": [
      " abccba\n"
     ]
    },
    {
     "name": "stdout",
     "output_type": "stream",
     "text": [
      "the entered string is penindrome\n"
     ]
    }
   ],
   "source": [
    "#Q4. Pelindrome\n",
    "print('Enter a string of your choice:')\n",
    "str1 = input()\n",
    "revStr1 = str1[::-1]\n",
    "if  str1 == revStr1 :\n",
    "    print('the entered string is penindrome')\n",
    "else :\n",
    "     print('the entered string is not penindrome')"
   ]
  },
  {
   "cell_type": "code",
   "execution_count": 12,
   "id": "9adfc5f1-b477-40cc-aa67-3e7e6d5e51ba",
   "metadata": {},
   "outputs": [
    {
     "name": "stdout",
     "output_type": "stream",
     "text": [
      "Enter a string of your choice:\n"
     ]
    },
    {
     "name": "stdin",
     "output_type": "stream",
     "text": [
      " i am a good boy\n"
     ]
    },
    {
     "name": "stdout",
     "output_type": "stream",
     "text": [
      "Space removed string is : iamagoodboy\n"
     ]
    }
   ],
   "source": [
    "print('Enter a string of your choice:')\n",
    "str1 = input()\n",
    "str2 = str1.replace(' ','')\n",
    "print ('Space removed string is : '+str2)"
   ]
  },
  {
   "cell_type": "code",
   "execution_count": null,
   "id": "38fd05f5-3852-4fe1-87c4-b3639384716f",
   "metadata": {},
   "outputs": [],
   "source": []
  }
 ],
 "metadata": {
  "kernelspec": {
   "display_name": "Python 3 (ipykernel)",
   "language": "python",
   "name": "python3"
  },
  "language_info": {
   "codemirror_mode": {
    "name": "ipython",
    "version": 3
   },
   "file_extension": ".py",
   "mimetype": "text/x-python",
   "name": "python",
   "nbconvert_exporter": "python",
   "pygments_lexer": "ipython3",
   "version": "3.10.8"
  }
 },
 "nbformat": 4,
 "nbformat_minor": 5
}
