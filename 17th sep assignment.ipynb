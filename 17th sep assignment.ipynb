{
 "cells": [
  {
   "cell_type": "code",
   "execution_count": null,
   "id": "7f9c66e3-6d77-4383-aad4-78200635bf94",
   "metadata": {},
   "outputs": [],
   "source": [
    "'''For Loop :-''''"
   ]
  },
  {
   "cell_type": "code",
   "execution_count": 1,
   "id": "66904083-d52f-4d61-88d8-442f7697b3eb",
   "metadata": {},
   "outputs": [
    {
     "name": "stdout",
     "output_type": "stream",
     "text": [
      "1\n",
      "2\n",
      "3\n",
      "4\n",
      "5\n",
      "6\n",
      "7\n",
      "8\n",
      "9\n",
      "10\n"
     ]
    }
   ],
   "source": [
    "''' 1.\tWrite a Python program to print numbers from 1 to 10 using a for loop.'''\n",
    "for i in range(1,11):\n",
    "    print(i)"
   ]
  },
  {
   "cell_type": "code",
   "execution_count": null,
   "id": "5d37678f-8646-473d-b991-b6aed598978f",
   "metadata": {},
   "outputs": [],
   "source": [
    "'''2.\tExplain the difference between a for loop and a while loop in Python.'''\n",
    "for loop in python looop through an iterator until there is element in the iterator but while loop check a condition and loop untill the condition is true."
   ]
  },
  {
   "cell_type": "code",
   "execution_count": 3,
   "id": "c9344f5b-6b73-4bc1-9d71-ca49939ec0f0",
   "metadata": {},
   "outputs": [
    {
     "name": "stdout",
     "output_type": "stream",
     "text": [
      "5050\n"
     ]
    }
   ],
   "source": [
    "'''3.\tWrite a Python program to calculate the sum of all numbers from 1 to 100 using a for loop.'''\n",
    "sum1 =0\n",
    "for i in range(1,101):\n",
    "    sum1 = sum1+i\n",
    "print(sum1)"
   ]
  },
  {
   "cell_type": "code",
   "execution_count": 4,
   "id": "b00ce85e-9202-49af-8708-3baaf42f1123",
   "metadata": {},
   "outputs": [
    {
     "name": "stdout",
     "output_type": "stream",
     "text": [
      "3\n",
      "6\n",
      "7\n",
      "3\n",
      "8\n",
      "5\n"
     ]
    }
   ],
   "source": [
    "''' 4.\tHow do you iterate through a list using a for loop in Python?''' \n",
    "\n",
    "list1 = [3,6,7,3,8,5,]\n",
    "for i in list1:\n",
    "    print (i)"
   ]
  },
  {
   "cell_type": "code",
   "execution_count": 8,
   "id": "8470862a-63d5-4a85-93ec-d15368df78cc",
   "metadata": {},
   "outputs": [
    {
     "name": "stdout",
     "output_type": "stream",
     "text": [
      "940032\n"
     ]
    }
   ],
   "source": [
    "'''5.\tWrite a Python program to find the product of all elements in a list using a for loop.'''\n",
    "list2 = [4,8,9,12,34,8]\n",
    "\n",
    "mul = 1\n",
    "for i in list2:\n",
    "    mul = mul * i\n",
    "print(mul)\n",
    "    "
   ]
  },
  {
   "cell_type": "code",
   "execution_count": 9,
   "id": "64e969f6-76da-46f3-b710-2231ad2d91b4",
   "metadata": {},
   "outputs": [
    {
     "name": "stdout",
     "output_type": "stream",
     "text": [
      "2\n",
      "4\n",
      "6\n",
      "8\n",
      "10\n",
      "12\n",
      "14\n",
      "16\n",
      "18\n",
      "20\n"
     ]
    }
   ],
   "source": [
    "'''6.\tCreate a Python program that prints all even numbers from 1 to 20 using a for loop.'''\n",
    "for i in range(1,21):\n",
    "    if i%2==0:\n",
    "        print(i)"
   ]
  },
  {
   "cell_type": "code",
   "execution_count": 11,
   "id": "576c4422-300b-4f0a-a1b4-b73406855350",
   "metadata": {},
   "outputs": [
    {
     "name": "stdin",
     "output_type": "stream",
     "text": [
      "Enter a number you want factorisl: 6\n"
     ]
    },
    {
     "name": "stdout",
     "output_type": "stream",
     "text": [
      "720\n"
     ]
    }
   ],
   "source": [
    "'''7.\tWrite a Python program that calculates the factorial of a number using a for loop.'''\n",
    "n = int(input('Enter a number you want factorisl:'))\n",
    "fact = 1\n",
    "for i in range(1,n+1):\n",
    "    fact = fact *i\n",
    "print(fact)"
   ]
  },
  {
   "cell_type": "code",
   "execution_count": 12,
   "id": "76412b77-db4d-4b04-921e-2148346e1950",
   "metadata": {},
   "outputs": [
    {
     "name": "stdout",
     "output_type": "stream",
     "text": [
      "A\n",
      "s\n",
      "i\n",
      "s\n",
      "h\n",
      " \n",
      "S\n",
      "a\n",
      "m\n",
      "a\n",
      "n\n",
      "t\n",
      "a\n"
     ]
    }
   ],
   "source": [
    "'''8.\tHow can you iterate through the characters of a string using a for loop in Python?'''\n",
    "\n",
    "str1 = 'Asish Samanta'\n",
    "for i in str1:\n",
    "    print (i)"
   ]
  },
  {
   "cell_type": "code",
   "execution_count": 1,
   "id": "c018400f-6698-4e1f-935a-7a43d793c7fa",
   "metadata": {},
   "outputs": [
    {
     "name": "stdout",
     "output_type": "stream",
     "text": [
      "78\n"
     ]
    }
   ],
   "source": [
    "'''9.\tWrite a Python program to find the largest number in a list using a for loop.'''\n",
    "\n",
    "list1 = [2,8,9,78,10]\n",
    "largest = list1[0]\n",
    "\n",
    "for i in list1:\n",
    "    if i>largest:\n",
    "        largest =i\n",
    "        \n",
    "print(largest)\n"
   ]
  },
  {
   "cell_type": "code",
   "execution_count": 5,
   "id": "40a4d624-2ba6-4508-b821-ba002186851d",
   "metadata": {},
   "outputs": [
    {
     "name": "stdin",
     "output_type": "stream",
     "text": [
      "Enter the count of fibonacci number: 5\n"
     ]
    },
    {
     "name": "stdout",
     "output_type": "stream",
     "text": [
      "0\n",
      "1\n",
      "1\n",
      "2\n",
      "3\n",
      "5\n",
      "8\n"
     ]
    }
   ],
   "source": [
    "'''10.\tCreate a Python program that prints the Fibonacci sequence up to a specified limit using a for loop.'''\n",
    "\n",
    "n = int(input('Enter the count of fibonacci number:'))\n",
    "\n",
    "a,b = 0,1\n",
    "print(a)\n",
    "print(b)\n",
    "for i in range(n):\n",
    "    c = a+b\n",
    "    print(c)\n",
    "    a,b = b,c"
   ]
  },
  {
   "cell_type": "code",
   "execution_count": 7,
   "id": "91775236-722a-4228-baac-bf8504946b4c",
   "metadata": {},
   "outputs": [
    {
     "name": "stdin",
     "output_type": "stream",
     "text": [
      "enter a string: Asish\n"
     ]
    },
    {
     "name": "stdout",
     "output_type": "stream",
     "text": [
      "Count of vowels in the string is : 2\n"
     ]
    }
   ],
   "source": [
    "'''11.\tWrite a Python program to count the number of vowels in a given string using a for loop.'''\n",
    "str1 = input('enter a string:')\n",
    "count =0\n",
    "for i in str1:\n",
    "    if i in ['a','e','i','o','u','A','E','I','O','U']:\n",
    "        count = count+1\n",
    "print('Count of vowels in the string is :',count)"
   ]
  },
  {
   "cell_type": "code",
   "execution_count": 8,
   "id": "4223d3fd-b85b-43be-a050-91baee4ae840",
   "metadata": {},
   "outputs": [
    {
     "name": "stdin",
     "output_type": "stream",
     "text": [
      "Enter a number for which multiplication table you want: 5\n"
     ]
    },
    {
     "name": "stdout",
     "output_type": "stream",
     "text": [
      "5 * 1 = 5\n",
      "5 * 2 = 10\n",
      "5 * 3 = 15\n",
      "5 * 4 = 20\n",
      "5 * 5 = 25\n",
      "5 * 6 = 30\n",
      "5 * 7 = 35\n",
      "5 * 8 = 40\n",
      "5 * 9 = 45\n",
      "5 * 10 = 50\n"
     ]
    }
   ],
   "source": [
    "'''12.\tCreate a Python program that generates a multiplication table for a given number using a for loop.'''\n",
    "n = int(input('Enter a number for which multiplication table you want:'))\n",
    "\n",
    "for i in range (1,11):\n",
    "    print (n,'*', i, '=',n *i)"
   ]
  },
  {
   "cell_type": "code",
   "execution_count": 9,
   "id": "40431533-fb52-4dfe-af22-620d86703d48",
   "metadata": {},
   "outputs": [
    {
     "name": "stdin",
     "output_type": "stream",
     "text": [
      "Enter a string you want to reverse: Asish\n"
     ]
    },
    {
     "name": "stdout",
     "output_type": "stream",
     "text": [
      "Reverse string is : hsisA\n"
     ]
    }
   ],
   "source": [
    "'''13.\tWrite a Python program to reverse a list using a for loop.'''\n",
    "str1 = input('Enter a string you want to reverse:')\n",
    "reverseString = ''\n",
    "\n",
    "for i in str1:\n",
    "    reverseString = i + reverseString\n",
    "print('Reverse string is :',reverseString)"
   ]
  },
  {
   "cell_type": "code",
   "execution_count": 16,
   "id": "142fa6bc-6afb-459f-8ecd-48d554da72c6",
   "metadata": {},
   "outputs": [
    {
     "name": "stdout",
     "output_type": "stream",
     "text": [
      "common list is : [8, 9]\n"
     ]
    }
   ],
   "source": [
    "'''14.\tWrite a Python program to find the common elements between two lists using a for loop.'''\n",
    "list1 = [2,8,9,7]\n",
    "list2 = [3,8,9,6]\n",
    "commonList=[]\n",
    "\n",
    "for i in list1:\n",
    "    if i in list2:\n",
    "        commonList.append(i)\n",
    "        \n",
    "print('common list is :',commonList)"
   ]
  },
  {
   "cell_type": "code",
   "execution_count": 22,
   "id": "0cf533b8-fe3a-4528-8288-d5f7048d1256",
   "metadata": {},
   "outputs": [
    {
     "name": "stdout",
     "output_type": "stream",
     "text": [
      "name\n",
      "title\n",
      "subject\n",
      "Asish\n",
      "samanta\n",
      "math\n"
     ]
    }
   ],
   "source": [
    "'''15.\tExplain how to use a for loop to iterate through the keys and values of a dictionary in Python.'''\n",
    "\n",
    "dict1 = {'name' : 'Asish','title':'samanta','subject':'math'}\n",
    "\n",
    "for i in dict1.keys():\n",
    "    print(i)\n",
    "    \n",
    "for i in dict1.values():\n",
    "    print(i)\n",
    "    "
   ]
  },
  {
   "cell_type": "code",
   "execution_count": 26,
   "id": "6a72058a-1553-4c9b-bf2a-64355c0fedc3",
   "metadata": {},
   "outputs": [
    {
     "name": "stdin",
     "output_type": "stream",
     "text": [
      "enter first number 9\n",
      "enter second number 12\n"
     ]
    },
    {
     "name": "stdout",
     "output_type": "stream",
     "text": [
      "GCD is : 3\n"
     ]
    }
   ],
   "source": [
    "'''16.\tWrite a Python program to find the GCD (Greatest Common Divisor) of two numbers using a for loop.'''\n",
    "\n",
    "first_number = int(input('enter first number'))\n",
    "second_number= int(input('enter second number'))\n",
    "\n",
    "if first_number< second_number:\n",
    "    n = first_number\n",
    "else:\n",
    "    n= second_number\n",
    "    \n",
    "for i in range(1,n+1):\n",
    "    if (first_number%i == 0) and (second_number%i==0):\n",
    "        gcd = i\n",
    "        \n",
    "print('GCD is :',gcd)"
   ]
  },
  {
   "cell_type": "code",
   "execution_count": 28,
   "id": "2a01edb0-a4f8-46fe-9e64-6462d694c908",
   "metadata": {},
   "outputs": [
    {
     "name": "stdin",
     "output_type": "stream",
     "text": [
      "enter a string asisa\n"
     ]
    },
    {
     "name": "stdout",
     "output_type": "stream",
     "text": [
      "entered  string is pelindrome\n"
     ]
    }
   ],
   "source": [
    "'''17.\tCreate a Python program that checks if a string is a palindrome using a for loop.'''\n",
    "\n",
    "str1=input('enter a string')\n",
    "reverseString=''\n",
    "\n",
    "for i in str1:\n",
    "    reverseString = i + reverseString\n",
    "if str1 == reverseString:\n",
    "    print('entered  string is pelindrome')\n",
    "else:\n",
    "    print('entered string is not pelindrome')"
   ]
  },
  {
   "cell_type": "code",
   "execution_count": 2,
   "id": "100cd08b-4f14-464f-a15a-2ca914650cfb",
   "metadata": {},
   "outputs": [
    {
     "name": "stdout",
     "output_type": "stream",
     "text": [
      "[1, 3, 5, 8, 2, 9]\n"
     ]
    }
   ],
   "source": [
    "'''18.\tWrite a Python program to remove duplicates from a list using a for loop.'''\n",
    "dupList = [1,3,5,8,2,5,9]\n",
    "\n",
    "newList = []\n",
    "\n",
    "for i in dupList :\n",
    "    if i not in newList:\n",
    "        newList.append(i)\n",
    "        \n",
    "print(newList)"
   ]
  },
  {
   "cell_type": "code",
   "execution_count": 6,
   "id": "ff8dac94-8f50-4ca7-991b-66fbbf3a9117",
   "metadata": {},
   "outputs": [
    {
     "name": "stdout",
     "output_type": "stream",
     "text": [
      "number of word in sentence is: 3\n"
     ]
    }
   ],
   "source": [
    "'''19.\tCreate a Python program that counts the number of words in a sentence using a for loop.'''\n",
    "\n",
    "sentence = 'I love Python'\n",
    "\n",
    "count=0\n",
    "\n",
    "for i in sentence:\n",
    "    if i == ' ':\n",
    "        count = count+1\n",
    "    \n",
    "    \n",
    "print ('number of word in sentence is:' ,count+1)"
   ]
  },
  {
   "cell_type": "code",
   "execution_count": 7,
   "id": "5553c192-14c2-40cb-bf46-e0e190cc1b08",
   "metadata": {},
   "outputs": [
    {
     "name": "stdout",
     "output_type": "stream",
     "text": [
      "sum of odd number upto 50 is: 625\n"
     ]
    }
   ],
   "source": [
    "'''20.\tWrite a Python program to find the sum of all odd numbers from 1 to 50 using a for loop.'''\n",
    "sum =0\n",
    "for i in range(1,51):\n",
    "    if i%2==1:\n",
    "        sum=sum+i\n",
    "        \n",
    "print ('sum of odd number upto 50 is:', sum)"
   ]
  },
  {
   "cell_type": "code",
   "execution_count": 11,
   "id": "478a9106-6491-43a7-830e-dec8aa9ff987",
   "metadata": {},
   "outputs": [
    {
     "name": "stdin",
     "output_type": "stream",
     "text": [
      "enter the year 1900\n"
     ]
    },
    {
     "name": "stdout",
     "output_type": "stream",
     "text": [
      "the year is not leap year\n"
     ]
    }
   ],
   "source": [
    "'''21.\tWrite a Python program that checks if a given year is a leap year using a for loop.'''\n",
    "\n",
    "year = int(input('enter the year'))\n",
    "\n",
    "if year %400 == 0:\n",
    "    print('The year is leapyear')\n",
    "elif year%100 != 0 and year%4 == 0:\n",
    "    print ('the year is leap year')\n",
    "else :\n",
    "    print ('the year is not leap year')"
   ]
  },
  {
   "cell_type": "code",
   "execution_count": 18,
   "id": "50a63db9-4f1d-4d63-8d41-3c4ce52f39d5",
   "metadata": {},
   "outputs": [
    {
     "name": "stdin",
     "output_type": "stream",
     "text": [
      "enter a number for which root to be calculated: 17\n"
     ]
    },
    {
     "name": "stdout",
     "output_type": "stream",
     "text": [
      "square root is : 4\n"
     ]
    }
   ],
   "source": [
    "'''22.\tCreate a Python program that calculates the square root of a number using a for loop.'''\n",
    "\n",
    "num = int(input('enter a number for which root to be calculated:'))\n",
    "n=1\n",
    "\n",
    "for i in range (int(num/2)):\n",
    "    if n*n > num:\n",
    "        break;\n",
    "    n = n+1\n",
    "    \n",
    "print ('square root is :',n-1)"
   ]
  },
  {
   "cell_type": "code",
   "execution_count": 23,
   "id": "a38c9eb7-c6b9-43db-a017-36f4c7b14ba2",
   "metadata": {},
   "outputs": [
    {
     "name": "stdin",
     "output_type": "stream",
     "text": [
      "enter a number: 15\n",
      "enter another number 5\n"
     ]
    },
    {
     "name": "stdout",
     "output_type": "stream",
     "text": [
      "lcm of the numbers is: 15.0\n"
     ]
    }
   ],
   "source": [
    "'''23.\tWrite a Python program to find the LCM (Least Common Multiple) of two numbers using a for loop.'''\n",
    "x = int(input('enter a number:'))\n",
    "y = int(input('enter another number'))\n",
    "\n",
    "if x>y :\n",
    "    x,y = y,x\n",
    "\n",
    "for i in range (1,x+1):\n",
    "    if x%i == 0 and y%i == 0:\n",
    "        gcd =i\n",
    "            \n",
    "lcm = x*y/gcd\n",
    "\n",
    "print ('lcm of the numbers is:', lcm)"
   ]
  },
  {
   "cell_type": "code",
   "execution_count": 27,
   "id": "d6ca200d-17c1-40fc-ae47-dc4aab33a40b",
   "metadata": {},
   "outputs": [
    {
     "name": "stdin",
     "output_type": "stream",
     "text": [
      "enter a number: 0\n"
     ]
    },
    {
     "name": "stdout",
     "output_type": "stream",
     "text": [
      "the entered number is zero\n"
     ]
    }
   ],
   "source": [
    "'''If else :'''\n",
    "\n",
    "'''1.\tWrite a Python program to check if a number is positive, negative, or zero using an if-else statement.'''\n",
    "\n",
    "number = int(input('enter a number:'))\n",
    "\n",
    "if number > 0 :\n",
    "    print('the entered number is positive')\n",
    "elif number < 0 :\n",
    "    print ('the entered number is negative')\n",
    "else:\n",
    "    print ('the entered number is zero')"
   ]
  },
  {
   "cell_type": "code",
   "execution_count": 31,
   "id": "ce1aab3a-73b9-4559-ba33-91d01306c92e",
   "metadata": {},
   "outputs": [
    {
     "name": "stdin",
     "output_type": "stream",
     "text": [
      "enter a number: 12\n"
     ]
    },
    {
     "name": "stdout",
     "output_type": "stream",
     "text": [
      "You have enterd an even number\n"
     ]
    }
   ],
   "source": [
    "'''2.\tCreate a Python program that checks if a given number is even or odd using an if-else statement.'''\n",
    "\n",
    "number = int(input('enter a number:'))\n",
    "\n",
    "if number % 2 == 0:\n",
    "    print ('You have enterd an even number')\n",
    "else:\n",
    "    print('You have enterea an odd number')"
   ]
  },
  {
   "cell_type": "code",
   "execution_count": 32,
   "id": "c1f25608-9b58-4c1b-b301-bfca83149c6c",
   "metadata": {},
   "outputs": [
    {
     "name": "stdout",
     "output_type": "stream",
     "text": [
      "The number is positive and even.\n"
     ]
    }
   ],
   "source": [
    "'''3.\tHow can you use nested if-else statements in Python, and provide an example?'''\n",
    "\n",
    "num = 10\n",
    "\n",
    "if num > 0:\n",
    "    if num % 2 == 0:\n",
    "        print(\"The number is positive and even.\")\n",
    "    else:\n",
    "        print(\"The number is positive but odd.\")\n",
    "else:\n",
    "    print(\"The number is not positive.\")"
   ]
  },
  {
   "cell_type": "code",
   "execution_count": 33,
   "id": "e7f83ef7-75fa-48aa-a529-5f6d322d3ff9",
   "metadata": {},
   "outputs": [
    {
     "name": "stdout",
     "output_type": "stream",
     "text": [
      "c is the largest number\n"
     ]
    }
   ],
   "source": [
    "'''4.\tWrite a Python program to determine the largest of three numbers using if-else.'''\n",
    "\n",
    "a,b,c = 10,5,19\n",
    "\n",
    "if a>b and a>c :\n",
    "    print ('a is the largest number')\n",
    "elif b> a and b>c :\n",
    "    print('b is the largest number')\n",
    "else:\n",
    "    print ('c is the largest number')"
   ]
  },
  {
   "cell_type": "code",
   "execution_count": 38,
   "id": "793411fe-6c74-43fd-bf45-9f846284cdc2",
   "metadata": {},
   "outputs": [
    {
     "name": "stdin",
     "output_type": "stream",
     "text": [
      "Enter a nuber -12\n"
     ]
    },
    {
     "name": "stdout",
     "output_type": "stream",
     "text": [
      "The absolute value is : 12\n"
     ]
    }
   ],
   "source": [
    "'''5.\tWrite a Python program that calculates the absolute value of a number using if-else.'''\n",
    "\n",
    "number = int(input('Enter a nuber'))\n",
    "\n",
    "if number>=0:\n",
    "    print ('The absolute value is:',number)\n",
    "else :\n",
    "    print('The absolute value is :',-number)"
   ]
  },
  {
   "cell_type": "code",
   "execution_count": 42,
   "id": "cdb7466c-c44d-4a89-8f1b-e3a88f874ad6",
   "metadata": {},
   "outputs": [
    {
     "name": "stdin",
     "output_type": "stream",
     "text": [
      "Enter a character a\n"
     ]
    },
    {
     "name": "stdout",
     "output_type": "stream",
     "text": [
      "The character is vowels\n"
     ]
    }
   ],
   "source": [
    "'''6.\tCreate a Python program that checks if a given character is a vowel or consonant using if-else.'''\n",
    "char = input('Enter a character')\n",
    "\n",
    "vowels = ['a','e','i','o','u']\n",
    "consonant = ['b','c','d','f','g','h','j','k','l','m','n','p','q','r','s','t','v','w','x','y','z']\n",
    "\n",
    "if char in vowels :\n",
    "    print('The character is vowels')\n",
    "elif char in consonant :\n",
    "    print ('The character is consonant')\n",
    "else:\n",
    "    print('Invalid character')"
   ]
  },
  {
   "cell_type": "code",
   "execution_count": 45,
   "id": "b30bb783-5435-49d1-9260-51f344af54f7",
   "metadata": {},
   "outputs": [
    {
     "name": "stdin",
     "output_type": "stream",
     "text": [
      "enter your age 25\n"
     ]
    },
    {
     "name": "stdout",
     "output_type": "stream",
     "text": [
      "You are eligible to vote\n"
     ]
    }
   ],
   "source": [
    "'''7.\tWrite a Python program to determine if a user is eligible to vote based on their age using if-else.'''\n",
    "\n",
    "age = int(input('enter your age'))\n",
    "\n",
    "if age  >=18:\n",
    "    print('You are eligible to vote')\n",
    "else :\n",
    "    print('You are not eligible to vote')"
   ]
  },
  {
   "cell_type": "code",
   "execution_count": 48,
   "id": "473a1e44-bdb6-404b-8232-34ceda5fa5fd",
   "metadata": {},
   "outputs": [
    {
     "name": "stdin",
     "output_type": "stream",
     "text": [
      "Enter the purchase amount 700\n",
      "Enter the discount percent 10\n"
     ]
    },
    {
     "name": "stdout",
     "output_type": "stream",
     "text": [
      "Discount amount is =  70.0\n"
     ]
    }
   ],
   "source": [
    "'''8.\tCreate a Python program that calculates the discount amount based on the purchase amount using if-else.'''\n",
    "\n",
    "purchase_amount = float(input('Enter the purchase amount'))\n",
    "discount_percent = float(input('Enter the discount percent'))\n",
    "\n",
    "print ('Discount amount is = ', purchase_amount*discount_percent/100)"
   ]
  },
  {
   "cell_type": "code",
   "execution_count": 49,
   "id": "7e6a3f83-73c8-412b-a86a-923359a93988",
   "metadata": {},
   "outputs": [
    {
     "name": "stdin",
     "output_type": "stream",
     "text": [
      "Enter a number 55\n"
     ]
    },
    {
     "name": "stdout",
     "output_type": "stream",
     "text": [
      "The number is between 0 to 100\n"
     ]
    }
   ],
   "source": [
    "'''9.\tWrite a Python program to check if a number is within a specified range using if-else.'''\n",
    "\n",
    "num = int(input('Enter a number'))\n",
    "\n",
    "if 0<=num<=100:\n",
    "    print ('The number is between 0 to 100')\n",
    "else:\n",
    "    print('The number is outside 0 - 100')"
   ]
  },
  {
   "cell_type": "code",
   "execution_count": 1,
   "id": "7d142b2a-a9d9-4fc7-bd4e-5ef86f915bbe",
   "metadata": {},
   "outputs": [
    {
     "name": "stdin",
     "output_type": "stream",
     "text": [
      "the number of the student 71\n"
     ]
    },
    {
     "name": "stdout",
     "output_type": "stream",
     "text": [
      "Grade id A\n"
     ]
    }
   ],
   "source": [
    "'''10.\tCreate a Python program that determines the grade of a student based on their score using if-else.'''\n",
    "number = int(input('the number of the student'))\n",
    "\n",
    "if number >= 80 :\n",
    "    print ('Grade is A+')\n",
    "elif 70<=number<80:\n",
    "    print ('Grade id A' )\n",
    "elif 60<= number<70:\n",
    "    print ('Grade is B+')\n",
    "elif 50<= number < 60:\n",
    "    print ('Grade is B')\n",
    "else:\n",
    "    print('The student failed')\n",
    "    "
   ]
  },
  {
   "cell_type": "code",
   "execution_count": 3,
   "id": "e0144667-e7ec-4a9c-96db-f949c363fe50",
   "metadata": {},
   "outputs": [
    {
     "name": "stdin",
     "output_type": "stream",
     "text": [
      "Enter a String Asish\n"
     ]
    },
    {
     "name": "stdout",
     "output_type": "stream",
     "text": [
      "The String is not Empty\n"
     ]
    }
   ],
   "source": [
    "'''11.\tWrite a Python program to check if a string is empty or not using if-else.'''\n",
    "str1 = input('Enter a String')\n",
    "\n",
    "if str1=='':\n",
    "    print('The String is Empty')\n",
    "else:\n",
    "    print ('The String is not Empty')"
   ]
  },
  {
   "cell_type": "code",
   "execution_count": 6,
   "id": "1fcb24f2-46a3-4853-89b0-2f036aeb2c5d",
   "metadata": {},
   "outputs": [
    {
     "name": "stdin",
     "output_type": "stream",
     "text": [
      "Input length of the first side 5\n",
      "Input length of the second side 6\n",
      "Input length of the first side 7\n"
     ]
    },
    {
     "name": "stdout",
     "output_type": "stream",
     "text": [
      "The Triangle is scalene\n"
     ]
    }
   ],
   "source": [
    "'''12.\tCreate a Python program that identifies the type of a triangle (e.g., equilateral, isosceles, or scalene) based on input values using if-else.'''\n",
    "\n",
    "x = float(input('Input length of the first side'))\n",
    "y = float(input('Input length of the second side'))\n",
    "z = float(input('Input length of the first side'))\n",
    "\n",
    "if x==y==z:\n",
    "    print('The triangle is Equilateral')\n",
    "elif x==y or y==z or x==z:\n",
    "    print ('The Triangle is equilateral')\n",
    "else:\n",
    "    print('The Triangle is scalene')"
   ]
  },
  {
   "cell_type": "code",
   "execution_count": 7,
   "id": "86c9b33b-afc3-4a8f-8ba7-4e241f21abb0",
   "metadata": {},
   "outputs": [
    {
     "name": "stdin",
     "output_type": "stream",
     "text": [
      "The number of the day 5\n"
     ]
    },
    {
     "name": "stdout",
     "output_type": "stream",
     "text": [
      "Its Friday\n"
     ]
    }
   ],
   "source": [
    "'''13.\tWrite a Python program to determine the day of the week based on a user-provided number using if-else.'''\n",
    "\n",
    "num = int(input ('The number of the day'))\n",
    "\n",
    "if num == 0:\n",
    "    print('Its Sunday')\n",
    "elif num == 1:\n",
    "    print('Its Monday')\n",
    "elif num == 2:\n",
    "    print('Its Tuesday')\n",
    "elif num == 3:\n",
    "    print('Its Wednesday')\n",
    "elif num ==4:\n",
    "    print('Its Thrusday')\n",
    "elif num ==5:\n",
    "    print('Its Friday')\n",
    "elif num == 6:\n",
    "    print('Its Saturday')\n",
    "else:\n",
    "    print('You have entered a invalid day number. Please enter between 0 to 6')"
   ]
  },
  {
   "cell_type": "code",
   "execution_count": 8,
   "id": "25469e64-9f87-4ad5-b510-082ac0cdfebb",
   "metadata": {},
   "outputs": [],
   "source": [
    "'''14.\tCreate a Python program that checks if a given year is a leap year using both if-else and a function.'''\n",
    "\n",
    "def check_leapyear(year):\n",
    "    if year%400==0:\n",
    "        print ('The Year is leap year')\n",
    "    elif year%100 != 0 and year %4 == 0:\n",
    "        print ('The Year is leap year')\n",
    "    else:\n",
    "        print ('The Year is not leap year')"
   ]
  },
  {
   "cell_type": "code",
   "execution_count": 9,
   "id": "b19cca0d-667a-4068-a0da-1a0e62e71152",
   "metadata": {},
   "outputs": [
    {
     "name": "stdout",
     "output_type": "stream",
     "text": [
      "The Year is not leap year\n"
     ]
    }
   ],
   "source": [
    "check_leapyear(1900)"
   ]
  },
  {
   "cell_type": "code",
   "execution_count": 10,
   "id": "4607fc88-487d-474d-acc9-d88132e6cc94",
   "metadata": {},
   "outputs": [
    {
     "name": "stdout",
     "output_type": "stream",
     "text": [
      "The Year is leap year\n"
     ]
    }
   ],
   "source": [
    "check_leapyear(1904)"
   ]
  },
  {
   "cell_type": "code",
   "execution_count": null,
   "id": "eb114e35-dcc2-4cb5-ab16-0e6ae19e733e",
   "metadata": {},
   "outputs": [],
   "source": [
    "'''15.\tHow do you use the \"assert\" statement in Python to add debugging checks within if-else blocks?'''\n",
    "\n",
    "'''Till Date not covered in class'''"
   ]
  },
  {
   "cell_type": "code",
   "execution_count": 11,
   "id": "c99f1e18-1984-450d-899c-5c1e92b72fc4",
   "metadata": {},
   "outputs": [
    {
     "name": "stdin",
     "output_type": "stream",
     "text": [
      "Enter your age 25\n"
     ]
    },
    {
     "name": "stdout",
     "output_type": "stream",
     "text": [
      "You are not eligible for senoir citizen discount\n"
     ]
    }
   ],
   "source": [
    "'''16.\tCreate a Python program that determines the eligibility of a person for a senior citizen discount based on age using if-else.'''\n",
    "\n",
    "age = int(input('Enter your age'))\n",
    "\n",
    "if age >= 60:\n",
    "    print('You are eligible for senoir citizen discount')\n",
    "else:\n",
    "    print('You are not eligible for senoir citizen discount')"
   ]
  },
  {
   "cell_type": "code",
   "execution_count": 15,
   "id": "fed83755-2d2b-4f21-9d6f-fa9b174bf770",
   "metadata": {},
   "outputs": [
    {
     "name": "stdout",
     "output_type": "stream",
     "text": [
      "The character is in neihter upper case nor Lower case\n"
     ]
    }
   ],
   "source": [
    "'''17.\tWrite a Python program to categorize a given character as uppercase, lowercase, or neither using if-else.'''\n",
    "\n",
    "char = '$'\n",
    "\n",
    "if char.isupper() == True:\n",
    "    print('The character is in Upper case')\n",
    "elif char.islower() == True:\n",
    "    print('The character is in Lower case')\n",
    "else:\n",
    "    print('The character is in neihter upper case nor Lower case')"
   ]
  },
  {
   "cell_type": "code",
   "execution_count": 30,
   "id": "8d210c19-03c0-48da-abf1-cd536dbdabc0",
   "metadata": {},
   "outputs": [],
   "source": [
    "'''18.\tWrite a Python program to determine the roots of a quadratic equation using if-else.'''\n",
    "\n",
    "import math\n",
    "\n",
    "def equation_roots(a,b,c):\n",
    "    if a==0:\n",
    "        print('Invalid quadratic equation')\n",
    "    else:\n",
    "        d = b**2 - 4*a*c\n",
    "        \n",
    "        if d==0:\n",
    "            print('The roots are real and equal. The roots are: ',-b/(2*a))\n",
    "        elif d>0:\n",
    "            print ('The roots are real and different.')\n",
    "            print('One root is : ',(-b+math.sqrt(d))/2*a)\n",
    "            print('Another root is :',(-b-math.sqrt(d))/2*a)\n",
    "        else:\n",
    "            print ('The roots are complex and different.')\n",
    "            print('One root is : ',-b/2*a,math.sqrt(abs(d))/2*a,'i')\n",
    "            print('One root is : ',-b/2*a,math.sqrt(abs(d))/2*a,'i')"
   ]
  },
  {
   "cell_type": "code",
   "execution_count": 31,
   "id": "b7fada24-8eae-46e9-87b6-07281a8eefbd",
   "metadata": {},
   "outputs": [
    {
     "name": "stdout",
     "output_type": "stream",
     "text": [
      "The roots are complex and different.\n",
      "One root is :  -1.0 1.4142135623730951 i\n",
      "One root is :  -1.0 1.4142135623730951 i\n"
     ]
    }
   ],
   "source": [
    "equation_roots(1,2,3)"
   ]
  },
  {
   "cell_type": "code",
   "execution_count": 33,
   "id": "835fb5f3-8982-4c01-9506-7dc7683e3818",
   "metadata": {},
   "outputs": [
    {
     "name": "stdin",
     "output_type": "stream",
     "text": [
      "Enter the year 1900\n"
     ]
    },
    {
     "name": "stdout",
     "output_type": "stream",
     "text": [
      "The year is century year\n"
     ]
    }
   ],
   "source": [
    "'''19.\tCreate a Python program that checks if a given year is a century year or not using if-else.'''\n",
    "\n",
    "year = int(input('Enter the year'))\n",
    "\n",
    "if year % 100 ==0:\n",
    "    print('The year is century year')\n",
    "else:\n",
    "    print('The year is not century year')"
   ]
  },
  {
   "cell_type": "code",
   "execution_count": 35,
   "id": "be3eac9b-a6fd-4652-a52c-c8169f8bfd4b",
   "metadata": {},
   "outputs": [
    {
     "name": "stdin",
     "output_type": "stream",
     "text": [
      "Enter a number 40\n"
     ]
    },
    {
     "name": "stdout",
     "output_type": "stream",
     "text": [
      "The number is not perfect square\n"
     ]
    }
   ],
   "source": [
    "'''20.\tWrite a Python program to determine if a given number is a perfect square using if-else.'''\n",
    "\n",
    "num = int(input('Enter a number'))\n",
    "\n",
    "sqr_root = math.sqrt(num)\n",
    "\n",
    "if sqr_root.is_integer():\n",
    "    print ('The number is perfect square')\n",
    "else:\n",
    "    print('The number is not perfect square')"
   ]
  },
  {
   "cell_type": "code",
   "execution_count": null,
   "id": "662bef0a-58c8-4357-95df-b6c803f6af14",
   "metadata": {},
   "outputs": [],
   "source": [
    "'''21.\tExplain the purpose of the \"continue\" and \"break\" statements within if-else loops.'''\n",
    "\n",
    "'''Continue is used to skip aparticular iteration when the condition match. Break is used to exit from the loop when the condition match.'''\n"
   ]
  },
  {
   "cell_type": "code",
   "execution_count": 36,
   "id": "42628f04-96ff-4908-86f9-18a2c1cddd21",
   "metadata": {},
   "outputs": [
    {
     "name": "stdin",
     "output_type": "stream",
     "text": [
      "Enter the weight 61\n",
      "Enter the height 1.61\n"
     ]
    },
    {
     "name": "stdout",
     "output_type": "stream",
     "text": [
      "Normal\n"
     ]
    }
   ],
   "source": [
    "'''22.\tCreate a Python program that calculates the BMI (Body Mass Index) of a person based on their weight and height using if-else.'''\n",
    "\n",
    "weight=float(input('Enter the weight in KG'))\n",
    "height=float(input('Enter the height in Meter'))\n",
    "\n",
    "bmi= weight/(height)**2\n",
    "\n",
    "if bmi<18.5:\n",
    "    print(\"Underweight\")\n",
    "elif bmi>=18.5 and bmi<25:\n",
    "    print(\"Normal\")\n",
    "elif bmi>=25 and bmi<30:\n",
    "    print(\"Overweight\")\n",
    "else:\n",
    "    print(\"Obesity\")"
   ]
  },
  {
   "cell_type": "code",
   "execution_count": 40,
   "id": "627a885c-4203-470b-bb52-81de1612dae7",
   "metadata": {},
   "outputs": [
    {
     "name": "stdout",
     "output_type": "stream",
     "text": [
      "[85, 82, 98, 97, 87]\n"
     ]
    }
   ],
   "source": [
    "'''23.\tHow can you use the \"filter()\" function with if-else statements to filter elements from a list?'''\n",
    "\n",
    "number = [70,72,85,82,98,97,87,65]\n",
    "\n",
    "def check_num(num):\n",
    "    if num >= 80:\n",
    "        return True\n",
    "    else :\n",
    "        return False\n",
    "    \n",
    "score = filter(check_num,number)\n",
    "\n",
    "print(list(score))\n"
   ]
  },
  {
   "cell_type": "code",
   "execution_count": 2,
   "id": "10bb228a-35d7-435a-8a6e-49698293156a",
   "metadata": {},
   "outputs": [
    {
     "name": "stdin",
     "output_type": "stream",
     "text": [
      "Enter a number 59\n"
     ]
    },
    {
     "name": "stdout",
     "output_type": "stream",
     "text": [
      "The number is prime\n"
     ]
    }
   ],
   "source": [
    "'''24.\tWrite a Python program to determine if a given number is prime or not using if-else.'''\n",
    "\n",
    "number = int(input('Enter a number'))\n",
    "flag = 0\n",
    "for i in range(2,int(number/2)+1):\n",
    "    if number%i == 0:\n",
    "        flag=1\n",
    "        break\n",
    "        \n",
    "if flag == 0:\n",
    "    print('The number is prime')\n",
    "else:\n",
    "    print ('The number is not prime')\n"
   ]
  },
  {
   "cell_type": "code",
   "execution_count": 2,
   "id": "fe62b28d-6dff-44f4-864b-5a9d42baf196",
   "metadata": {},
   "outputs": [
    {
     "name": "stdout",
     "output_type": "stream",
     "text": [
      "[9, 25, 49, 121, 169]\n"
     ]
    }
   ],
   "source": [
    "''' MAP Function'''\n",
    "'''1.\tExplain the purpose of the `map()` function in Python and provide an example of how it can be used to apply a function to each element of an iterable.'''\n",
    "\n",
    "'''Map in Python is a function that works as an iterator to return a result after applying a function to every item of an iterable (tuple, lists, etc.). It is used when you want to apply a single transformation function to all the iterable elements. The iterable and function are passed as arguments to the map in Python.'''\n",
    "def mul(i):\n",
    "\n",
    "    return i * i\n",
    "\n",
    "num = (3, 5, 7, 11, 13)\n",
    "\n",
    "result = map(mul, num)\n",
    "\n",
    "print(list(result))\n"
   ]
  },
  {
   "cell_type": "code",
   "execution_count": 3,
   "id": "ac9dfdc3-2388-4d36-9ddf-ba75f81d904b",
   "metadata": {},
   "outputs": [
    {
     "name": "stdout",
     "output_type": "stream",
     "text": [
      "[9, 25, 49, 121, 169]\n"
     ]
    }
   ],
   "source": [
    "'''2.\tWrite a Python program that uses the `map()` function to square each element of a list of numbers.'''\n",
    "\n",
    "def mul(i):\n",
    "\n",
    "    return i * i\n",
    "\n",
    "num = [3, 5, 7, 11, 13]\n",
    "\n",
    "result = map(mul, num)\n",
    "\n",
    "print(list(result))\n"
   ]
  },
  {
   "cell_type": "code",
   "execution_count": 4,
   "id": "54afb800-f686-4141-990c-593a39dacc89",
   "metadata": {},
   "outputs": [
    {
     "data": {
      "text/plain": [
       "'List comprehension returns a list, whereas the map function returns an object of Iterable. List comprehension execution is\\nfaster than that of map function when the formula expression is huge and complex. Map function is faster than list comprehension \\nwhen the formula is already defined as a function earlier.'"
      ]
     },
     "execution_count": 4,
     "metadata": {},
     "output_type": "execute_result"
    }
   ],
   "source": [
    "'''3.\tHow does the `map()` function differ from a list comprehension in Python, and when would you choose one over the other?'''\n",
    "'''List comprehension returns a list, whereas the map function returns an object of Iterable. List comprehension execution is\n",
    "faster than that of map function when the formula expression is huge and complex. Map function is faster than list comprehension \n",
    "when the formula is already defined as a function earlier.'''"
   ]
  },
  {
   "cell_type": "code",
   "execution_count": 11,
   "id": "fd9da825-2094-429f-aba4-fcfd1be2a9df",
   "metadata": {},
   "outputs": [
    {
     "name": "stdout",
     "output_type": "stream",
     "text": [
      "['ASISH', 'ANIMESH', 'DEBASISH']\n"
     ]
    }
   ],
   "source": [
    "'''4.\tCreate a Python program that uses the `map()` function to convert a list of names to uppercase.'''\n",
    "def upper(str1):\n",
    "    return str1.upper()\n",
    "\n",
    "name_list = ['asish','Animesh','Debasish']\n",
    "\n",
    "upper_list = map(upper,name_list)\n",
    "print (list(upper_list))"
   ]
  },
  {
   "cell_type": "code",
   "execution_count": 14,
   "id": "7c11de62-dc80-4fa7-882a-8c7d6035ef76",
   "metadata": {},
   "outputs": [
    {
     "name": "stdout",
     "output_type": "stream",
     "text": [
      "[5, 7, 8]\n"
     ]
    }
   ],
   "source": [
    "'''5.\tWrite a Python program that uses the `map()` function to calculate the length of each word in a list of strings.'''\n",
    "\n",
    "def length(str1):\n",
    "    return len(str1)\n",
    "name_list = ['asish','Animesh','Debasish']\n",
    "\n",
    "length_list = map(length,name_list)\n",
    "print (list(length_list))"
   ]
  },
  {
   "cell_type": "code",
   "execution_count": 18,
   "id": "4e6c2145-d723-45f7-8a8d-e17b93be1ae8",
   "metadata": {},
   "outputs": [
    {
     "name": "stdout",
     "output_type": "stream",
     "text": [
      "<map object at 0x7fe45c5d4e80>\n",
      "[6, 11, 16, 21, 26, 31, 36]\n"
     ]
    }
   ],
   "source": [
    "'''6.\tHow can you use the `map()` function to apply a custom function to elements of multiple lists simultaneously in Python?'''\n",
    "def myMapFunc(list1, list2):\n",
    "    return list1+list2\n",
    "my_list1 = [2,3,4,5,6,7,8,9]\n",
    "my_list2 = [4,8,12,16,20,24,28]\n",
    "updated_list = map(myMapFunc, my_list1,my_list2)\n",
    "print(updated_list)\n",
    "print(list(updated_list))\n"
   ]
  },
  {
   "cell_type": "code",
   "execution_count": 20,
   "id": "b04f8d78-cb5b-4824-933b-76739aea1975",
   "metadata": {},
   "outputs": [
    {
     "name": "stdout",
     "output_type": "stream",
     "text": [
      "[86.0, 89.6, 80.6, 113.0]\n"
     ]
    }
   ],
   "source": [
    "'''7.\tCreate a Python program that uses `map()` to convert a list of temperatures from Celsius to Fahrenheit.'''\n",
    "\n",
    "def celcius_to_ferenhite(temp):\n",
    "    ferenhite = temp*9/5+32\n",
    "    return ferenhite\n",
    "temp_list = [30,32,27,45]\n",
    "\n",
    "ferenhite_list = map(celcius_to_ferenhite,temp_list)\n",
    "print(list(ferenhite_list))"
   ]
  },
  {
   "cell_type": "code",
   "execution_count": 22,
   "id": "5a1dada2-b0d9-458a-a34a-95b2174b2ea6",
   "metadata": {},
   "outputs": [
    {
     "name": "stdout",
     "output_type": "stream",
     "text": [
      "[2, 8, 8, 9]\n"
     ]
    }
   ],
   "source": [
    "'''8.\tWrite a Python program that uses the `map()` function to round each element of a list of floating-point numbers to the nearest integer.'''\n",
    "\n",
    "def round1(num):\n",
    "    return(int(num))\n",
    "\n",
    "list1 = [2.5,8.5,8.99,9.2]\n",
    "\n",
    "int_list = map(round1,list1)\n",
    "\n",
    "print(list(int_list))"
   ]
  },
  {
   "cell_type": "code",
   "execution_count": 23,
   "id": "0079bdc1-be18-40d6-a221-a5b6115e4b18",
   "metadata": {},
   "outputs": [
    {
     "name": "stdout",
     "output_type": "stream",
     "text": [
      "The sum of the list elements is : 17\n",
      "The maximum element of the list is : 6\n"
     ]
    }
   ],
   "source": [
    "'''Reduce :-'''\n",
    "\n",
    "'''1.\tWhat is the `reduce()` function in Python, and what module should you import to use it? Provide an example of its basic usage.'''\n",
    "\n",
    "'''reduce() function in python take a iterable as input and do computation and return a consolidated result. functools package is required to be \n",
    "imported to use this function.\n",
    "\n",
    "example:'''\n",
    "\n",
    "import functools\n",
    "\n",
    "lis = [1, 3, 5, 6, 2]\n",
    "  \n",
    "print(\"The sum of the list elements is : \", end=\"\")\n",
    "print(functools.reduce(lambda a, b: a+b, lis))\n",
    "  \n",
    "print(\"The maximum element of the list is : \", end=\"\")\n",
    "print(functools.reduce(lambda a, b: a if a > b else b, lis))"
   ]
  },
  {
   "cell_type": "code",
   "execution_count": 24,
   "id": "ebfd5c93-5e26-458f-aa4e-0c4f956f8307",
   "metadata": {},
   "outputs": [
    {
     "name": "stdout",
     "output_type": "stream",
     "text": [
      "The product of the list elements is : 180\n"
     ]
    }
   ],
   "source": [
    "'''2.\tWrite a Python program that uses the `reduce()` function to find the product of all elements in a list.'''\n",
    "\n",
    "import functools\n",
    "\n",
    "lis = [1, 3, 5, 6, 2]\n",
    "  \n",
    "print(\"The product of the list elements is : \", end=\"\")\n",
    "print(functools.reduce(lambda a, b: a*b, lis))"
   ]
  },
  {
   "cell_type": "code",
   "execution_count": 25,
   "id": "f406a752-3fbd-40b8-8531-834ee27628e1",
   "metadata": {},
   "outputs": [
    {
     "name": "stdout",
     "output_type": "stream",
     "text": [
      "The maximum element of the list is : 6\n"
     ]
    }
   ],
   "source": [
    "'''3.\tCreate a Python program that uses `reduce()` to find the maximum element in a list of numbers.'''\n",
    "import functools\n",
    "\n",
    "lis = [1, 3, 5, 6, 2]\n",
    "print(\"The maximum element of the list is : \", end=\"\")\n",
    "print(functools.reduce(lambda a, b: a if a > b else b, lis))"
   ]
  },
  {
   "cell_type": "code",
   "execution_count": 26,
   "id": "8d4a9b80-4685-428d-b583-f17e5e4830bf",
   "metadata": {},
   "outputs": [
    {
     "name": "stdout",
     "output_type": "stream",
     "text": [
      "The concatenation of the list elements is : asish Samanta\n"
     ]
    }
   ],
   "source": [
    "'''4.\tHow can you use the `reduce()` function to concatenate a list of strings into a single string?'''\n",
    "lis = ['asish', ' ', 'Samanta']\n",
    "  \n",
    "print(\"The concatenation of the list elements is : \", end=\"\")\n",
    "print(functools.reduce(lambda a, b: a+b, lis))"
   ]
  },
  {
   "cell_type": "code",
   "execution_count": 28,
   "id": "6bf3fdba-63f8-48d3-a60f-9658b4de6dc8",
   "metadata": {},
   "outputs": [
    {
     "name": "stdin",
     "output_type": "stream",
     "text": [
      "Enter a number: 6\n"
     ]
    },
    {
     "name": "stdout",
     "output_type": "stream",
     "text": [
      "The product of the list elements is : 720\n"
     ]
    }
   ],
   "source": [
    "'''5.\tWrite a Python program that calculates the factorial of a number using the `reduce()` function.'''\n",
    "import functools\n",
    "\n",
    "n = int(input('Enter a number:'))\n",
    "\n",
    "lis = [x for x in range (1,n+1)]\n",
    "  \n",
    "print(\"The product of the list elements is : \", end=\"\")\n",
    "print(functools.reduce(lambda a, b: a*b, lis))"
   ]
  },
  {
   "cell_type": "code",
   "execution_count": 35,
   "id": "2b1825d9-9510-4c25-bb89-4498a190a13e",
   "metadata": {},
   "outputs": [
    {
     "name": "stdout",
     "output_type": "stream",
     "text": [
      "The GCD of the list elements is : 1\n"
     ]
    }
   ],
   "source": [
    "'''6.\tCreate a Python program that uses `reduce()` to find the GCD (Greatest Common Divisor) of a list of numbers.'''\n",
    "import functools\n",
    "\n",
    "lis = [5,15,25,3]\n",
    "gcd = lambda a,b : a if b==0 else gcd(b,a%b)\n",
    "print(\"The GCD of the list elements is : \", end=\"\")\n",
    "print(functools.reduce(gcd,lis))"
   ]
  },
  {
   "cell_type": "code",
   "execution_count": 5,
   "id": "a594a215-f352-4dad-aab2-097f0376f27d",
   "metadata": {},
   "outputs": [
    {
     "name": "stdout",
     "output_type": "stream",
     "text": [
      "Sum of Digits of number is : 16\n"
     ]
    }
   ],
   "source": [
    "'''7.\tWrite a Python program that uses the `reduce()` function to find the sum of the digits of a given number.'''\n",
    "import functools\n",
    "number = 1258\n",
    "\n",
    "print(\"Sum of Digits of number is : \", end=\"\")\n",
    "print(functools.reduce(lambda a,b: int(a)+int(b),str(number)))"
   ]
  },
  {
   "cell_type": "code",
   "execution_count": 3,
   "id": "35f2544d-6bba-4c12-9f67-70e5dcf7e345",
   "metadata": {},
   "outputs": [
    {
     "name": "stdout",
     "output_type": "stream",
     "text": [
      "[8, 4, 6, 2, 12]\n"
     ]
    }
   ],
   "source": [
    "'''Filter'''\n",
    "\n",
    "'''1.\tExplain the purpose of the `filter()` function in Python and provide an example of how it can be used to filter elements from an iterable.'''\n",
    "\n",
    "'''The filter() function selects elements from an iterable (list, tuple etc.) based on the output of a function.\n",
    "\n",
    "The function is applied to each element of the iterable and if it returns True, the element is selected by the filter() function.'''\n",
    "\n",
    "def check_even(n):\n",
    "    if n%2 == 0:\n",
    "        return True\n",
    "    else :\n",
    "        return False\n",
    "    \n",
    "    \n",
    "list_number = [1,3,8,5,4,7,6,2,12]\n",
    "\n",
    "list_even_number = filter(check_even,list_number)\n",
    "print(list(list_even_number))\n",
    "    "
   ]
  },
  {
   "cell_type": "code",
   "execution_count": 4,
   "id": "c7d8c66e-af53-486d-aa0d-b29517d017e7",
   "metadata": {},
   "outputs": [
    {
     "name": "stdout",
     "output_type": "stream",
     "text": [
      "[8, 4, 6, 2, 12]\n"
     ]
    }
   ],
   "source": [
    "'''2.\tWrite a Python program that uses the `filter()` function to select even numbers from a list of integers.'''\n",
    "def check_even(n):\n",
    "    if n%2 == 0:\n",
    "        return True\n",
    "    else :\n",
    "        return False\n",
    "    \n",
    "    \n",
    "list_number = [1,3,8,5,4,7,6,2,12]\n",
    "\n",
    "list_even_number = filter(check_even,list_number)\n",
    "print(list(list_even_number))\n",
    "    "
   ]
  },
  {
   "cell_type": "code",
   "execution_count": 5,
   "id": "1ebce95a-5f0f-4c81-bb53-68ff089bd5b8",
   "metadata": {},
   "outputs": [
    {
     "name": "stdout",
     "output_type": "stream",
     "text": [
      "['Asish', 'Animesh', 'Ahana']\n"
     ]
    }
   ],
   "source": [
    "'''3.\tCreate a Python program that uses the `filter()` function to select names that start with a specific letter from a list of strings.'''\n",
    "\n",
    "list_name = ['Asish','Deb','Animesh','Priya','Ahana']\n",
    "\n",
    "def check_name_starts_with_A(name):\n",
    "    if name[0] == 'A':\n",
    "        return True\n",
    "    else :\n",
    "        return False\n",
    "list_name_A = filter(check_name_starts_with_A,list_name)\n",
    "print(list(list_name_A))"
   ]
  },
  {
   "cell_type": "code",
   "execution_count": 6,
   "id": "8223e915-d1b8-40c9-81fc-54c65702dbe5",
   "metadata": {},
   "outputs": [
    {
     "name": "stdout",
     "output_type": "stream",
     "text": [
      "[1, 3, 13, 29, 53]\n"
     ]
    }
   ],
   "source": [
    "'''4.\tWrite a Python program that uses the `filter()` function to select prime numbers from a list of integers.'''\n",
    "\n",
    "def check_prime(n):\n",
    "    isPrime = True\n",
    "    for i in range (2,n):\n",
    "        if n%i==0:\n",
    "            isPrime = False\n",
    "    return isPrime\n",
    "\n",
    "list_num = [1,3,12,15,13,29,53]\n",
    "\n",
    "list_prime = filter(check_prime,list_num)\n",
    "\n",
    "print(list(list_prime))"
   ]
  },
  {
   "cell_type": "code",
   "execution_count": 8,
   "id": "ec8455ef-3cc4-4dcd-bc73-b62646b110c2",
   "metadata": {},
   "outputs": [
    {
     "name": "stdout",
     "output_type": "stream",
     "text": [
      "[5, 7, 'Asish', 'TCS']\n"
     ]
    }
   ],
   "source": [
    "'''5.\tHow can you use the `filter()` function to remove None values from a list in Python?'''\n",
    "\n",
    "def check_none(str):\n",
    "    if str == \"\":\n",
    "        return False\n",
    "    else :\n",
    "        return True\n",
    "    \n",
    "list1 = [5,7,\"Asish\",\"\",\"TCS\"]\n",
    "\n",
    "list2 = filter(check_none, list1)\n",
    "print(list(list2))"
   ]
  },
  {
   "cell_type": "code",
   "execution_count": 10,
   "id": "cf77a553-6c46-445d-ab0a-fec22914a148",
   "metadata": {},
   "outputs": [
    {
     "name": "stdin",
     "output_type": "stream",
     "text": [
      "ENter length 4\n"
     ]
    },
    {
     "name": "stdout",
     "output_type": "stream",
     "text": [
      "['Asish', 'Animesh', 'Priya', 'Ahana']\n"
     ]
    }
   ],
   "source": [
    "'''6.\tCreate a Python program that uses `filter()` to select words longer than a certain length from a list of strings.'''\n",
    "n = int(input('ENter length'))\n",
    "\n",
    "def check_string(str1):\n",
    "    if len(str1) >= n:\n",
    "        return True\n",
    "    else:\n",
    "        return False\n",
    "list_name = ['Asish','Deb','Animesh','Priya','Ahana']\n",
    "\n",
    "final_list = filter(check_string, list_name)\n",
    "print(list(final_list))\n"
   ]
  },
  {
   "cell_type": "code",
   "execution_count": 12,
   "id": "f75d7f1b-3c9a-428d-ba91-f9dd0fe99849",
   "metadata": {},
   "outputs": [
    {
     "name": "stdin",
     "output_type": "stream",
     "text": [
      "ENter number 10\n"
     ]
    },
    {
     "name": "stdout",
     "output_type": "stream",
     "text": [
      "[56, 48, 78, 12, 23]\n"
     ]
    }
   ],
   "source": [
    "'''7.\tWrite a Python program that uses the `filter()` function to select elements greater than a specified threshold from a list of values.'''\n",
    "n = int(input('ENter number'))\n",
    "\n",
    "def check_num(num):\n",
    "    if num >= n:\n",
    "        return True\n",
    "    else:\n",
    "        return False\n",
    "    \n",
    "num_list = [56,48,78,12,4,5,8,23]\n",
    "final_list2 = filter(check_num,num_list)\n",
    "print(list(final_list2))"
   ]
  },
  {
   "cell_type": "code",
   "execution_count": 1,
   "id": "ee680471-f62e-4d4f-8c78-b2ff5886e870",
   "metadata": {},
   "outputs": [
    {
     "data": {
      "text/plain": [
       "'Recursion is a technique in which the function calls itself in its body to solve the problem, typically breaking into smaller and more manageable sub-problems. In contrast, Iteration is a technique that repetitively executes a code block until the condition is unmet.'"
      ]
     },
     "execution_count": 1,
     "metadata": {},
     "output_type": "execute_result"
    }
   ],
   "source": [
    "'''Recursion:'''\n",
    "\n",
    "'''1.Explain the concept of recursion in Python. How does it differ from iteration?'''\n",
    "\n",
    "'''Recursion is a technique in which the function calls itself in its body to solve the problem, typically breaking into smaller and more manageable sub-problems. In contrast, Iteration is a technique that repetitively executes a code block until the condition is unmet.'''\n"
   ]
  },
  {
   "cell_type": "code",
   "execution_count": 4,
   "id": "811795ae-85f5-4d53-b4e4-d82726685ce2",
   "metadata": {},
   "outputs": [
    {
     "name": "stdin",
     "output_type": "stream",
     "text": [
      "Enter a number 5\n"
     ]
    },
    {
     "name": "stdout",
     "output_type": "stream",
     "text": [
      "Factorial of the number is : 120\n"
     ]
    }
   ],
   "source": [
    "'''2.Write a Python program to calculate the factorial of a number using recursion.'''\n",
    "\n",
    "num = int(input('Enter a number'))\n",
    "\n",
    "def factorial(num):\n",
    "    if num ==0:\n",
    "        return 1\n",
    "    else:\n",
    "        return num*factorial(num-1)\n",
    "    \n",
    "result = factorial(num)\n",
    "\n",
    "print('Factorial of the number is :',result)\n"
   ]
  },
  {
   "cell_type": "code",
   "execution_count": 6,
   "id": "4e3ef19d-a645-488b-ad55-494ded90f38a",
   "metadata": {},
   "outputs": [
    {
     "name": "stdin",
     "output_type": "stream",
     "text": [
      "Enter a number 5\n"
     ]
    },
    {
     "name": "stdout",
     "output_type": "stream",
     "text": [
      "5th fibonacci number is 3\n"
     ]
    }
   ],
   "source": [
    "'''3.Create a recursive Python function to find the nth Fibonacci number.'''\n",
    "num = int(input('Enter a number'))\n",
    "\n",
    "def fibonacci(num):\n",
    "    if num == 1:\n",
    "        return 0\n",
    "    elif num == 2:\n",
    "        return 1\n",
    "    else:\n",
    "        return fibonacci(num-1)+fibonacci(num-2)\n",
    "    \n",
    "result1 = fibonacci(num)\n",
    "\n",
    "print(str(num)+'th fibonacci number is',result1)"
   ]
  },
  {
   "cell_type": "code",
   "execution_count": 8,
   "id": "68b11df1-838f-4fff-863c-ec761a157e8c",
   "metadata": {},
   "outputs": [
    {
     "name": "stdout",
     "output_type": "stream",
     "text": [
      "Sum of the List is : 125\n"
     ]
    }
   ],
   "source": [
    "'''4.Write a recursive Python function to calculate the sum of all elements in a list.'''\n",
    "\n",
    "list1 = [5,8,78,2,5,4,23]\n",
    "\n",
    "def sum_list(list1):\n",
    "    if len(list1)==1:\n",
    "        return list1[0]\n",
    "    else:\n",
    "        return list1[0] + sum_list(list1[1:])\n",
    "    \n",
    "list_total = sum_list(list1)\n",
    "\n",
    "print('Sum of the List is :' , list_total)"
   ]
  },
  {
   "cell_type": "code",
   "execution_count": null,
   "id": "f64d9d37-2609-4ffc-a2b2-9b49c8617a3b",
   "metadata": {},
   "outputs": [],
   "source": [
    "'''5.How can you prevent a recursive function from running indefinitely, causing a stack overflow error?'''\n",
    "\n",
    "'''There must be a base condition or termination condition to stop running a recursive function indefinitely'''"
   ]
  },
  {
   "cell_type": "code",
   "execution_count": 9,
   "id": "bfd2c3d9-8df3-4b29-9552-33027f6cd622",
   "metadata": {},
   "outputs": [
    {
     "name": "stdin",
     "output_type": "stream",
     "text": [
      "Enter first number: 125\n",
      "Enter second number: 25\n"
     ]
    },
    {
     "name": "stdout",
     "output_type": "stream",
     "text": [
      "GCD is: \n",
      "25\n"
     ]
    }
   ],
   "source": [
    "'''6. Create a recursive Python function to find the greatest common divisor (GCD) of two numbers using the Euclidean algorithm.'''\n",
    "def gcd(a,b):\n",
    "    if(b==0):\n",
    "        return a\n",
    "    else:\n",
    "        return gcd(b,a%b)\n",
    "a=int(input(\"Enter first number:\"))\n",
    "b=int(input(\"Enter second number:\"))\n",
    "GCD=gcd(a,b)\n",
    "print(\"GCD is: \")\n",
    "print(GCD)"
   ]
  },
  {
   "cell_type": "code",
   "execution_count": 24,
   "id": "654b663a-ad06-44cf-b895-6ee3f1966902",
   "metadata": {},
   "outputs": [
    {
     "name": "stdin",
     "output_type": "stream",
     "text": [
      "Enter a string: asish\n"
     ]
    },
    {
     "name": "stdout",
     "output_type": "stream",
     "text": [
      "Reverse string is : hsisa\n"
     ]
    }
   ],
   "source": [
    "'''7.Write a recursive Python function to reverse a string.'''\n",
    "str1 = input('Enter a string:')\n",
    "\n",
    "def string_reverse(str1):\n",
    "    if len(str1) == 1:\n",
    "        return str1\n",
    "    else :\n",
    "        return string_reverse(str1[1:]) + str1[0]\n",
    "    \n",
    "print('Reverse string is :',string_reverse(str1))"
   ]
  },
  {
   "cell_type": "code",
   "execution_count": 25,
   "id": "14f444d1-b9b9-41a4-b54b-25e589524c38",
   "metadata": {},
   "outputs": [
    {
     "name": "stdin",
     "output_type": "stream",
     "text": [
      "Enter the value of a 2\n",
      "Enter the value of b 3\n"
     ]
    },
    {
     "name": "stdout",
     "output_type": "stream",
     "text": [
      "a^b is : 8\n"
     ]
    }
   ],
   "source": [
    "'''8. Create a recursive Python function to calculate the power of a number (x^n).'''\n",
    "\n",
    "a = int(input('Enter the value of a'))\n",
    "b = int(input('Enter the value of b'))\n",
    "\n",
    "def power(a,b):\n",
    "    if b == 0 :\n",
    "        return 1\n",
    "    else :\n",
    "        return a * power(a,b-1)\n",
    "result = power(a,b)\n",
    "\n",
    "print('a^b is :',result)\n",
    "    "
   ]
  },
  {
   "cell_type": "code",
   "execution_count": 32,
   "id": "a1c61a93-b5c9-41f6-b215-aeeaa0d7f7f3",
   "metadata": {},
   "outputs": [],
   "source": [
    "'''9.Write a recursive Python function to find all permutations of a given string.'''\n",
    "\n",
    "def toList(List):\n",
    "    return ''.join(List)\n",
    "\n",
    "def permute(a):\n",
    "    l=0\n",
    "    r = len(a)-1\n",
    "    if l == r:\n",
    "        return(toList(a))\n",
    "    else:\n",
    "        for i in range(l, r):\n",
    "            a[l], a[i] = a[i], a[l]\n",
    "            permute(a[1], r)\n",
    "            a[l], a[i] = a[i], a[l]  "
   ]
  },
  {
   "cell_type": "code",
   "execution_count": 33,
   "id": "255eb367-de38-4232-b21b-48b0fb0c4bf2",
   "metadata": {},
   "outputs": [
    {
     "ename": "TypeError",
     "evalue": "'str' object does not support item assignment",
     "output_type": "error",
     "traceback": [
      "\u001b[0;31m---------------------------------------------------------------------------\u001b[0m",
      "\u001b[0;31mTypeError\u001b[0m                                 Traceback (most recent call last)",
      "Cell \u001b[0;32mIn[33], line 1\u001b[0m\n\u001b[0;32m----> 1\u001b[0m \u001b[43mpermute\u001b[49m\u001b[43m(\u001b[49m\u001b[38;5;124;43m'\u001b[39;49m\u001b[38;5;124;43mabc\u001b[39;49m\u001b[38;5;124;43m'\u001b[39;49m\u001b[43m)\u001b[49m\n",
      "Cell \u001b[0;32mIn[32], line 13\u001b[0m, in \u001b[0;36mpermute\u001b[0;34m(a)\u001b[0m\n\u001b[1;32m     11\u001b[0m \u001b[38;5;28;01melse\u001b[39;00m:\n\u001b[1;32m     12\u001b[0m     \u001b[38;5;28;01mfor\u001b[39;00m i \u001b[38;5;129;01min\u001b[39;00m \u001b[38;5;28mrange\u001b[39m(l, r):\n\u001b[0;32m---> 13\u001b[0m         a[l], a[i] \u001b[38;5;241m=\u001b[39m a[i], a[l]\n\u001b[1;32m     14\u001b[0m         permute(a[\u001b[38;5;241m1\u001b[39m], r)\n\u001b[1;32m     15\u001b[0m         a[l], a[i] \u001b[38;5;241m=\u001b[39m a[i], a[l]\n",
      "\u001b[0;31mTypeError\u001b[0m: 'str' object does not support item assignment"
     ]
    }
   ],
   "source": [
    "permute('abc')"
   ]
  },
  {
   "cell_type": "code",
   "execution_count": 36,
   "id": "e03882c3-5062-4ef6-9256-128fbe7517ad",
   "metadata": {},
   "outputs": [
    {
     "name": "stdin",
     "output_type": "stream",
     "text": [
      "Enter a string: asisa\n"
     ]
    },
    {
     "name": "stdout",
     "output_type": "stream",
     "text": [
      "The string is Pelindrome\n"
     ]
    }
   ],
   "source": [
    "'''10.Write a recursive Python function to check if a string is a palindrome.'''\n",
    "str1 = input('Enter a string:')\n",
    "\n",
    "def string_reverse(str1):\n",
    "    if len(str1) == 1:\n",
    "        return str1\n",
    "    else :\n",
    "        return string_reverse(str1[1:]) + str1[0]\n",
    "    \n",
    "reverse_string = string_reverse(str1)\n",
    "\n",
    "if reverse_string == str1:\n",
    "    print('The string is Pelindrome')\n",
    "else:\n",
    "    print('The strinmg is not pelindrome')\n",
    "    \n"
   ]
  },
  {
   "cell_type": "code",
   "execution_count": null,
   "id": "45a89d5d-7d24-43ea-af7b-b04e0964d74e",
   "metadata": {},
   "outputs": [],
   "source": [
    "'''11. Create a recursive Python function to generate all possible combinations of a list of elements.'''\n",
    "\n"
   ]
  },
  {
   "cell_type": "code",
   "execution_count": null,
   "id": "da98e70f-1871-44ff-ade7-6f5befe66cba",
   "metadata": {},
   "outputs": [],
   "source": [
    "'''Basics of Functions:'''\n",
    "'''1.What is a function in Python, and why is it used?'''\n",
    "\n",
    "'''A function is a block of code which only runs when it is called. We can pass data, known as parameters, into a function. A function can return data as a result.'''"
   ]
  },
  {
   "cell_type": "code",
   "execution_count": 37,
   "id": "065cd748-9b1e-4f8a-bf7c-1d10cfbc2d29",
   "metadata": {},
   "outputs": [
    {
     "data": {
      "text/plain": [
       "13"
      ]
     },
     "execution_count": 37,
     "metadata": {},
     "output_type": "execute_result"
    }
   ],
   "source": [
    "'''2.How do you define a function in Python? Provide an example'''\n",
    "\n",
    "'''In Python, you define a function with the def keyword, then write the function identifier (name) followed by parentheses and a colon.\n",
    "The next thing you have to do is make sure you indent with a tab or 4 spaces, and then specify what you want the function to do for you.'''\n",
    "\n",
    "def cal_sum(a,b):\n",
    "    sum1 = a+b\n",
    "    return sum1\n",
    "\n",
    "cal_sum(5,8)\n"
   ]
  },
  {
   "cell_type": "code",
   "execution_count": 39,
   "id": "e5e715af-1a08-4380-aef4-13dd8fc3f36b",
   "metadata": {},
   "outputs": [
    {
     "data": {
      "text/plain": [
       "13"
      ]
     },
     "execution_count": 39,
     "metadata": {},
     "output_type": "execute_result"
    }
   ],
   "source": [
    "'''3.Explain the difference between a function definition and a function call.'''\n",
    "\n",
    "'''Function defination is the place where the work that function do is defined. function call is the place where we call the function to actually do the job.'''\n",
    "\n",
    "# Function defination\n",
    "def cal_sum(a,b):\n",
    "    sum1 = a+b\n",
    "    return sum1\n",
    "# Function call\n",
    "cal_sum(5,8)\n"
   ]
  },
  {
   "cell_type": "code",
   "execution_count": 40,
   "id": "f9aeb732-1f78-45ef-93f5-8267dae70acb",
   "metadata": {},
   "outputs": [
    {
     "data": {
      "text/plain": [
       "13"
      ]
     },
     "execution_count": 40,
     "metadata": {},
     "output_type": "execute_result"
    }
   ],
   "source": [
    "'''4.Write a Python program that defines a function to calculate the sum of two numbers and then calls the function.'''\n",
    "\n",
    "# Function defination\n",
    "def cal_sum(a,b):\n",
    "    sum1 = a+b\n",
    "    return sum1\n",
    "# Function call\n",
    "cal_sum(5,8)"
   ]
  },
  {
   "cell_type": "code",
   "execution_count": null,
   "id": "3cac4595-018d-4252-8fe3-bf47655eb6b0",
   "metadata": {},
   "outputs": [],
   "source": [
    "'''5.What is a function signature, and what information does it typically include?'''\n",
    "\n",
    "'''A function signature consists of the function prototype. It specifies the general information about a function like the name, scope and parameters. '''"
   ]
  },
  {
   "cell_type": "code",
   "execution_count": 41,
   "id": "8392526f-9543-42b3-874b-298232b4fe40",
   "metadata": {},
   "outputs": [
    {
     "data": {
      "text/plain": [
       "40"
      ]
     },
     "execution_count": 41,
     "metadata": {},
     "output_type": "execute_result"
    }
   ],
   "source": [
    "'''6.Create a Python function that takes two arguments and returns their product.'''\n",
    "# Function defination\n",
    "def cal_mul(a,b):\n",
    "    sum1 = a*b\n",
    "    return sum1\n",
    "# Function call\n",
    "cal_mul(5,8)"
   ]
  },
  {
   "cell_type": "code",
   "execution_count": 1,
   "id": "457ed814-3d45-40d9-9224-ca18245bd7b8",
   "metadata": {},
   "outputs": [
    {
     "data": {
      "text/plain": [
       "'Actual Parameters vary from Formal Parameters in that Actual Parameters are values supplied to the function when it is invoked, \\nwhereas Formal Parameters are variables declared by the function that get values when the function is called.'"
      ]
     },
     "execution_count": 1,
     "metadata": {},
     "output_type": "execute_result"
    }
   ],
   "source": [
    "#Function Parameters and Arguments:\n",
    "#1.\tExplain the concepts of formal parameters and actual arguments in Python functions.\n",
    "\n",
    "'''Actual Parameters vary from Formal Parameters in that Actual Parameters are values supplied to the function when it is invoked, \n",
    "whereas Formal Parameters are variables declared by the function that get values when the function is called.'''\n"
   ]
  },
  {
   "cell_type": "code",
   "execution_count": null,
   "id": "91ea3ed8-a585-45b4-8bd6-88f5af9ae3b9",
   "metadata": {},
   "outputs": [],
   "source": [
    "#2.\tWrite a Python program that defines a function with default argument values.\n",
    "def student(firstname, lastname ='Mark', standard ='Fifth'):\n",
    " \n",
    "     print(firstname, lastname, 'studies in', standard, 'Standard')\n",
    "    \n",
    "    ''' Here default parameter value has been provided to last name and standard parameter'''"
   ]
  },
  {
   "cell_type": "code",
   "execution_count": 5,
   "id": "b1465e5f-9766-4c37-96b2-78f63a80d4d6",
   "metadata": {},
   "outputs": [
    {
     "name": "stdout",
     "output_type": "stream",
     "text": [
      "My string\n"
     ]
    }
   ],
   "source": [
    "#3.\tHow do you use keyword arguments in Python function calls? Provide an example.\n",
    "\n",
    "'''Keyword arguments are related to the function calls. When keyword arguments is used in a function call, the caller identifies the arguments by the parameter name.\n",
    "\n",
    "This allows you to skip arguments or place them out of order because the Python interpreter is able to use the keywords provided to match the values with parameters. Keyword calls can be made to the printme() function in the following ways −'''\n",
    "\n",
    "\n",
    "def printme( str ):\n",
    "#\"This prints a passed string into this function\"\n",
    "    print (str)\n",
    "    return;\n",
    "\n",
    "printme( str = \"My string\")"
   ]
  },
  {
   "cell_type": "code",
   "execution_count": 6,
   "id": "a2d0e034-161f-4334-964c-16b26c68f381",
   "metadata": {},
   "outputs": [
    {
     "name": "stdout",
     "output_type": "stream",
     "text": [
      "100\n"
     ]
    }
   ],
   "source": [
    "#4.\tCreate a Python function that accepts a variable number of arguments and calculates their sum.\n",
    "def sum_all(*args): \n",
    "    s=0 \n",
    "    for i in args: \n",
    "        s=s+i \n",
    "    print(s)\n",
    "    \n",
    "    \n",
    "sum_all(10, 20, 30, 40) "
   ]
  },
  {
   "cell_type": "code",
   "execution_count": 8,
   "id": "acd55b29-c3bc-463d-9a29-30008ab84140",
   "metadata": {},
   "outputs": [
    {
     "name": "stdout",
     "output_type": "stream",
     "text": [
      "(2, 3) <class 'tuple'>\n",
      "{'banana': 5, 'mango': 7, 'apple': 8} <class 'dict'>\n"
     ]
    }
   ],
   "source": [
    "# 5.\tWhat is the purpose of the `*args` and `**kwargs` syntax in function parameter lists?\n",
    "'''*args allows us to pass a variable number of non-keyword arguments to a Python function. \n",
    "In the function, we should use an asterisk (*) before the parameter name to pass a variable number of arguments.'''\n",
    "\n",
    "def add(*args):\n",
    "    print(args, type(args))\n",
    "\n",
    "add(2, 3)\n",
    "\n",
    "'''**kwargs allows us to pass a variable number of keyword arguments to a Python function.\n",
    "In the function, we use the double-asterisk (**) before the parameter name to denote this type of argument.'''\n",
    "\n",
    "def total_fruits(**kwargs):\n",
    "    print(kwargs, type(kwargs))\n",
    "\n",
    "\n",
    "total_fruits(banana=5, mango=7, apple=8)\n"
   ]
  },
  {
   "cell_type": "code",
   "execution_count": 10,
   "id": "b08c3bb3-e74e-4f7f-8902-bca6b42993c6",
   "metadata": {},
   "outputs": [],
   "source": [
    "# Return Values and Scoping:\n",
    "\n",
    "#1.\tDescribe the role of the `return` statement in Python functions and provide examples.\n",
    "\n",
    "'''The Python return statement is a key component of functions and methods. \n",
    "The return statement is used to make your functions send Python objects back to the caller code. \n",
    "These objects are known as the function’s return value. \n",
    "Return value to perform further computation in your programs.'''\n",
    "\n",
    "def calSum(a,b):\n",
    "    return a+b\n",
    "\n",
    "#This function take two arguments and return their sum."
   ]
  },
  {
   "cell_type": "code",
   "execution_count": null,
   "id": "5e93e865-5f34-428e-b6a9-64a228bbbac1",
   "metadata": {},
   "outputs": [],
   "source": [
    "#2.\tExplain the concept of variable scope in Python, including local and global variables.\n",
    "\n",
    "'''Python Global variables are those which are not defined inside any function and have a global scope whereas Python local variables\n",
    "are those which are defined inside a function and their scope is limited to that function only.'''"
   ]
  },
  {
   "cell_type": "code",
   "execution_count": 13,
   "id": "924e91cf-29c6-4256-a238-7ea489c6e6d5",
   "metadata": {},
   "outputs": [
    {
     "name": "stdout",
     "output_type": "stream",
     "text": [
      "10\n",
      "30\n"
     ]
    }
   ],
   "source": [
    "#3.\tWrite a Python program that demonstrates the use of global variables within functions.\n",
    "\n",
    "number = 10 # global variable\n",
    "\n",
    "def printNum():\n",
    "    print (number)\n",
    "    numberLocal = 30  # Local variable\n",
    "    \n",
    "    print(numberLocal)\n",
    "    \n",
    "    \n",
    "printNum()"
   ]
  },
  {
   "cell_type": "code",
   "execution_count": 15,
   "id": "be3082a1-a27b-428b-b028-afa4957e83d5",
   "metadata": {},
   "outputs": [
    {
     "data": {
      "text/plain": [
       "120"
      ]
     },
     "execution_count": 15,
     "metadata": {},
     "output_type": "execute_result"
    }
   ],
   "source": [
    "# 4.\tCreate a Python function that calculates the factorial of a number and returns it.\n",
    "\n",
    "def fact(n):\n",
    "    factorial =1\n",
    "    for i in range (1,n+1):\n",
    "        factorial = factorial * i\n",
    "        \n",
    "    return factorial\n",
    "\n",
    "fact (5)"
   ]
  },
  {
   "cell_type": "code",
   "execution_count": 16,
   "id": "dcdb1cbc-718b-4ebd-ae1c-b97d4a179916",
   "metadata": {},
   "outputs": [
    {
     "name": "stdout",
     "output_type": "stream",
     "text": [
      "x is 50\n",
      "Changed global x to 2\n",
      "Value of x is 2\n"
     ]
    }
   ],
   "source": [
    "#5.\tHow can you access variables defined outside a function from within the function?\n",
    "\n",
    "'''We do this using the global statement. It is impossible to assign a value to a variable defined outside a function without the global statement.\n",
    "\n",
    "The values of such variables defined outside the function can be used(assuming there is no variable with the same name within the function).'''\n",
    "\n",
    "def func():\n",
    "\tglobal x\n",
    "\n",
    "\tprint ('x is', x)\n",
    "\tx = 2\n",
    "\tprint ('Changed global x to', x)\n",
    "\n",
    "x = 50\n",
    "func()\n",
    "print ('Value of x is', x)"
   ]
  },
  {
   "cell_type": "code",
   "execution_count": 2,
   "id": "6ed08b83-e394-4245-b1d3-130cd3428e01",
   "metadata": {},
   "outputs": [
    {
     "name": "stdout",
     "output_type": "stream",
     "text": [
      "ASISH SAMANTA\n"
     ]
    }
   ],
   "source": [
    "# Lambda Functions and Higher-Order Functions:\n",
    "#1. What are lambda functions in Python, and when are they typically used?\n",
    "'''Python Lambda Functions are anonymous function means that the function is without a name.\n",
    "As we already know that the def keyword is used to define a normal function in Python.\n",
    "Similarly, the lambda keyword is used to define an anonymous function in Python. '''\n",
    "\n",
    "\n",
    "\n",
    "str1 = 'Asish Samanta'\n",
    " \n",
    "upper = lambda string: string.upper()\n",
    "print(upper(str1))"
   ]
  },
  {
   "cell_type": "code",
   "execution_count": 3,
   "id": "c52910db-01cd-4ca4-88ca-89cb9e4b5110",
   "metadata": {},
   "outputs": [
    {
     "name": "stdout",
     "output_type": "stream",
     "text": [
      "[('akash', 5), ('rishav', 10), ('gaurav', 15), ('ram', 20)]\n"
     ]
    }
   ],
   "source": [
    "# 2 . Write a Python program that uses lambda functions to sort a list of tuples based on the second element.\n",
    "\n",
    "def Sort_Tuple(tup): \n",
    " \n",
    "   \n",
    "    tup.sort(key = lambda x: x[1]) \n",
    "    return tup \n",
    " \n",
    "\n",
    "tup = [('rishav', 10), ('akash', 5), ('ram', 20), ('gaurav', 15)] \n",
    " \n",
    "\n",
    "print(Sort_Tuple(tup)) \n"
   ]
  },
  {
   "cell_type": "code",
   "execution_count": 4,
   "id": "aac92f21-5580-4a31-97f3-4b1dbb6be5c8",
   "metadata": {},
   "outputs": [
    {
     "name": "stdout",
     "output_type": "stream",
     "text": [
      "<map object at 0x7fe6e8eeb0d0>\n",
      "[1, 4, 9, 16, 25]\n"
     ]
    }
   ],
   "source": [
    "#3. Explain the concept of higher-order functions in Python, and provide an example.\n",
    "\n",
    "'''Higher-order functions are functions that take a function as a parameter and/or return a function as an output. \n",
    "A few useful higher-order functions are map() , filter() , and reduce() . map() and filter() are built-in functions, \n",
    "whereas reduce() is contained in functools() module.'''\n",
    "\n",
    "num=[1,2,3,4,5]\n",
    "square=map(lambda x: x**2 , num)\n",
    "print (square)\n",
    "\n",
    "print (list(square))\n"
   ]
  },
  {
   "cell_type": "code",
   "execution_count": 7,
   "id": "9e111449-3745-4d43-9b53-34153f833817",
   "metadata": {},
   "outputs": [
    {
     "name": "stdout",
     "output_type": "stream",
     "text": [
      "[4, 8, 10, 16]\n"
     ]
    }
   ],
   "source": [
    "# Create a Python function that takes a list of numbers and a function as arguments, applying the function to each element in the list.\n",
    "\n",
    "def mulby2(i):\n",
    "    return i*2\n",
    "\n",
    "def func(l1, mulby2):\n",
    "    for i in range (0,len(l1)):\n",
    "        l1[i]= mulby2(l1[i])\n",
    "    print(l1)\n",
    "    \n",
    "func([2,4,5,8],mulby2)"
   ]
  },
  {
   "cell_type": "code",
   "execution_count": null,
   "id": "d65890e4-a8e7-4db0-866b-ea298917f14f",
   "metadata": {},
   "outputs": [],
   "source": [
    "# Describe the role of built-in functions like `len()`, `max()`, and `min()` in Python.\n",
    "\n",
    "#len() :- This function returns the length of list.\n",
    "#min() :- This function returns the minimum element of list.\n",
    "#max() :- This function returns the maximum element of list."
   ]
  },
  {
   "cell_type": "code",
   "execution_count": 8,
   "id": "c7febff8-5be1-4c5f-82d3-7daa7641bff8",
   "metadata": {},
   "outputs": [
    {
     "name": "stdout",
     "output_type": "stream",
     "text": [
      "<map object at 0x7fe6e8ee95d0>\n",
      "[1, 4, 9, 16, 25]\n"
     ]
    }
   ],
   "source": [
    "# Write a Python program that uses the `map()` function to apply a function to each element of a list.\n",
    "num=[1,2,3,4,5]\n",
    "square=map(lambda x: x**2 , num)\n",
    "print (square)\n",
    "\n",
    "print (list(square))\n",
    "\n"
   ]
  },
  {
   "cell_type": "code",
   "execution_count": null,
   "id": "4cb04995-14c2-4fa3-9c08-bbae8c2ba176",
   "metadata": {},
   "outputs": [],
   "source": [
    "#3.How does the `filter()` function work in Python, and when would you use it?\n",
    "\n",
    "'''Filter() is a built-in function in Python. The filter function can be applied to an iterable such as a list or a dictionary and create a new iterator.\n",
    "This new iterator can filter out certain specific elements based on the condition that is provided'''"
   ]
  },
  {
   "cell_type": "code",
   "execution_count": 3,
   "id": "ad48df9b-1b42-4dc6-bc3b-ba486126db63",
   "metadata": {},
   "outputs": [
    {
     "name": "stdout",
     "output_type": "stream",
     "text": [
      "Product using reduce() : 120\n"
     ]
    }
   ],
   "source": [
    "#Create a Python program that uses the `reduce()` function to find the product of all elements in a list.\n",
    "import functools\n",
    "my_list = [1, 2, 3, 4, 5]\n",
    "product = functools.reduce(lambda x, y: x * y, my_list) \n",
    "print(f\"Product using reduce() : {product}\")"
   ]
  },
  {
   "cell_type": "code",
   "execution_count": 4,
   "id": "67fb8d3d-02bb-4f14-b2c1-a00e80daf6e3",
   "metadata": {},
   "outputs": [
    {
     "name": "stdout",
     "output_type": "stream",
     "text": [
      "Using __doc__:\n",
      "Demonstrates triple double quotes\n",
      "    docstrings and does nothing really.\n",
      "Using help:\n",
      "Help on function my_function in module __main__:\n",
      "\n",
      "my_function()\n",
      "    Demonstrates triple double quotes\n",
      "    docstrings and does nothing really.\n",
      "\n"
     ]
    }
   ],
   "source": [
    "#Function Documentation and Best Practices:\n",
    "\n",
    "#Explain the purpose of docstrings in Python functions and how to write them.\n",
    "'''Python documentation strings (or docstrings) provide a convenient way of associating documentation with Python modules, functions, classes, and methods. It’s specified in source code that is used, like a comment, to document a specific segment of code. Unlike conventional source code comments, the docstring should describe what the function does, not how.\n",
    "\n",
    "Declaring Docstrings: The docstrings are declared using ”’triple single quotes”’ or “”” triple double quotes “”” just below the class, method, or function declaration. All functions should have a docstring.\n",
    "Accessing Docstrings: The docstrings can be accessed using the __doc__ method of the object or using the help function. The below examples demonstrate how to declare and access a docstring.'''\n",
    "\n",
    "def my_function():\n",
    "    '''Demonstrates triple double quotes\n",
    "    docstrings and does nothing really.'''\n",
    "  \n",
    "    return None\n",
    " \n",
    "print(\"Using __doc__:\")\n",
    "print(my_function.__doc__)\n",
    " \n",
    "print(\"Using help:\")\n",
    "help(my_function)"
   ]
  },
  {
   "cell_type": "code",
   "execution_count": null,
   "id": "ee4298e5-ce84-4d23-93fa-584f1a5b3fd9",
   "metadata": {},
   "outputs": [],
   "source": [
    "#Describe some best practices for naming functions and variables in Python, including naming conventions and guidelines.\n",
    "\n",
    "'''In Python, the names of variables and functions should be lowercase. Individual words can be separated by underscores when needed. This will improve readability within your code. Method names should follow the same conventions as function names. \n",
    "\n",
    "Here are a few best practices to follow when naming your variables and functions:\n",
    "\n",
    "Constants should be represented by all capital letters and separated by underscores when needed \n",
    "Names should be used that are representative of the meaning of the object rather than meaningless, single-character names\n",
    "Names i, j, and k should be reserved for representing index values\n",
    "Understanding and adopting these best practices is a great way to polish your coding skills.  '''"
   ]
  }
 ],
 "metadata": {
  "kernelspec": {
   "display_name": "Python 3 (ipykernel)",
   "language": "python",
   "name": "python3"
  },
  "language_info": {
   "codemirror_mode": {
    "name": "ipython",
    "version": 3
   },
   "file_extension": ".py",
   "mimetype": "text/x-python",
   "name": "python",
   "nbconvert_exporter": "python",
   "pygments_lexer": "ipython3",
   "version": "3.10.8"
  }
 },
 "nbformat": 4,
 "nbformat_minor": 5
}
